{
 "cells": [
  {
   "cell_type": "markdown",
   "id": "7f8d7e30",
   "metadata": {},
   "source": [
    "#### Ejercicio 3: Análisis de Ventas en una Librería\n",
    "##### Contexto: Eres el gerente de Libros & Más, una librería que quiere optimizar sus recomendaciones y disposición de productos. Tienes datos de 10 transacciones recientes:\n",
    "##### Tareas:\n",
    "##### 1. Preprocesamiento de Datos :Convierte las transacciones a formato one-hot usando TransactionEncoder.\n",
    "##### 2. Itemsets Frecuentes: Aplica el algoritmo Apriori con min_support=0.3. Identifica los 3 itemsets de tamaño 2 más frecuentes.\n",
    "##### 3. Generación de Reglas: Encuentra reglas con min_confidence=0.6. Filtra las reglas con lift > 1.2 (asociaciones más fuertes).\n",
    "\n",
    "##### Preguntas clave: \n",
    "##### Basado en la regla con mayor lift:\n",
    "##### ¿Qué productos recomendarías empaquetar juntos en una promoción?\n",
    "##### ¿Qué sección de la tienda podría reorganizarse para aumentar ventas cruzadas?"
   ]
  },
  {
   "cell_type": "code",
   "execution_count": 1,
   "id": "0ae6cf83",
   "metadata": {},
   "outputs": [],
   "source": [
    "from mlxtend.preprocessing import TransactionEncoder\n",
    "from mlxtend.frequent_patterns import apriori, association_rules\n",
    "import pandas as pd"
   ]
  },
  {
   "cell_type": "code",
   "execution_count": 2,
   "id": "9c3b7830",
   "metadata": {},
   "outputs": [
    {
     "name": "stdout",
     "output_type": "stream",
     "text": [
      "Dataset original\n",
      "Transacción 1: ['Novela', 'Café', 'Marcadores']\n",
      "Transacción 2: ['Libro de Ciencia', 'Cuaderno', 'Lápiz']\n",
      "Transacción 3: ['Novela', 'Café', 'Lápiz']\n",
      "Transacción 4: ['Libro de Historia', 'Marcadores', 'Post-it']\n",
      "Transacción 5: ['Cuaderno', 'Lápiz', 'Post-it']\n",
      "Transacción 6: ['Novela', 'Libro de Ciencia', 'Café']\n",
      "Transacción 7: ['Libro de Historia', 'Cuaderno']\n",
      "Transacción 8: ['Café', 'Post-it', 'Marcadores']\n",
      "Transacción 9: ['Novela', 'Lápiz']\n",
      "Transacción 10: ['Libro de Ciencia', 'Cuaderno', 'Post-it']\n"
     ]
    }
   ],
   "source": [
    "transacciones = [\n",
    "    ['Novela', 'Café', 'Marcadores'],\n",
    "    ['Libro de Ciencia', 'Cuaderno', 'Lápiz'],\n",
    "    ['Novela', 'Café', 'Lápiz'],\n",
    "    ['Libro de Historia', 'Marcadores', 'Post-it'],\n",
    "    ['Cuaderno', 'Lápiz', 'Post-it'],\n",
    "    ['Novela', 'Libro de Ciencia', 'Café'],\n",
    "    ['Libro de Historia', 'Cuaderno'],\n",
    "    ['Café', 'Post-it', 'Marcadores'],\n",
    "    ['Novela', 'Lápiz'],\n",
    "    ['Libro de Ciencia', 'Cuaderno', 'Post-it']\n",
    "]\n",
    "\n",
    "print(\"Dataset original\")\n",
    "for i, trans in enumerate(transacciones, 1):\n",
    "    print(f\"Transacción {i}: {trans}\")"
   ]
  },
  {
   "cell_type": "code",
   "execution_count": 4,
   "id": "763925ce",
   "metadata": {},
   "outputs": [
    {
     "name": "stdout",
     "output_type": "stream",
     "text": [
      "\n",
      "DataFrame transformado (One-Hot Encoding): \n",
      "    Café  Cuaderno  Libro de Ciencia  Libro de Historia  Lápiz  Marcadores  \\\n",
      "0   True     False             False              False  False        True   \n",
      "1  False      True              True              False   True       False   \n",
      "2   True     False             False              False   True       False   \n",
      "3  False     False             False               True  False        True   \n",
      "4  False      True             False              False   True       False   \n",
      "5   True     False              True              False  False       False   \n",
      "6  False      True             False               True  False       False   \n",
      "7   True     False             False              False  False        True   \n",
      "8  False     False             False              False   True       False   \n",
      "9  False      True              True              False  False       False   \n",
      "\n",
      "   Novela  Post-it  \n",
      "0    True    False  \n",
      "1   False    False  \n",
      "2    True    False  \n",
      "3   False     True  \n",
      "4   False     True  \n",
      "5    True    False  \n",
      "6   False    False  \n",
      "7   False     True  \n",
      "8    True    False  \n",
      "9   False     True  \n"
     ]
    }
   ],
   "source": [
    "te = TransactionEncoder()\n",
    "te_ary = te.fit(transacciones).transform(transacciones)\n",
    "df = pd.DataFrame(te_ary, columns=te.columns_)\n",
    "print(\"\\nDataFrame transformado (One-Hot Encoding): \")\n",
    "print(df)"
   ]
  },
  {
   "cell_type": "code",
   "execution_count": 7,
   "id": "27f2edc3",
   "metadata": {},
   "outputs": [
    {
     "name": "stdout",
     "output_type": "stream",
     "text": [
      "\n",
      "Itemsets frecuentes (soporte >= %30):\n",
      "   support            itemsets  length\n",
      "0      0.4              (Café)       1\n",
      "1      0.4          (Cuaderno)       1\n",
      "3      0.4             (Lápiz)       1\n",
      "5      0.4            (Novela)       1\n",
      "6      0.4           (Post-it)       1\n",
      "2      0.3  (Libro de Ciencia)       1\n",
      "4      0.3        (Marcadores)       1\n",
      "7      0.3      (Café, Novela)       2\n"
     ]
    }
   ],
   "source": [
    "frequent_itemsets = apriori(df, min_support=0.3, use_colnames=True)\n",
    "frequent_itemsets['length'] = frequent_itemsets['itemsets'].apply(lambda x: len(x))\n",
    "print(\"\\nItemsets frecuentes (soporte >= %30):\")\n",
    "print(frequent_itemsets.sort_values('support', ascending=False))"
   ]
  },
  {
   "cell_type": "code",
   "execution_count": 12,
   "id": "e18556a2",
   "metadata": {},
   "outputs": [
    {
     "name": "stdout",
     "output_type": "stream",
     "text": [
      "Top 3 itemsets de tamaño 2 más frecuentes:\n",
      "   support        itemsets  length\n",
      "7      0.3  (Café, Novela)       2\n"
     ]
    }
   ],
   "source": [
    "top_3_itemsets = frequent_itemsets[(frequent_itemsets['length'] == 2)].sort_values('support', ascending=False).head(3)\n",
    "print(\"Top 3 itemsets de tamaño 2 más frecuentes:\")\n",
    "print(top_3_itemsets)"
   ]
  },
  {
   "cell_type": "code",
   "execution_count": 11,
   "id": "ce464335",
   "metadata": {},
   "outputs": [
    {
     "name": "stdout",
     "output_type": "stream",
     "text": [
      "\n",
      "Reglas de asociación (confianza >= 60% sin lift > 1):\n",
      "  antecedents consequents  support  confidence   lift\n",
      "0      (Café)    (Novela)      0.3        0.75  1.875\n",
      "1    (Novela)      (Café)      0.3        0.75  1.875\n"
     ]
    }
   ],
   "source": [
    "rules = association_rules(frequent_itemsets, metric=\"confidence\", min_threshold=0.6)\n",
    "rules = rules[rules['lift'] > 1.2]\n",
    "print(\"\\nReglas de asociación (confianza >= 60% sin lift > 1):\")\n",
    "print(rules[['antecedents', 'consequents', 'support', 'confidence', 'lift']].sort_values('lift', ascending=False))"
   ]
  },
  {
   "cell_type": "code",
   "execution_count": null,
   "id": "3e23aaa2",
   "metadata": {},
   "outputs": [],
   "source": [
    "#¿Qué productos recomendarías empaquetar juntos en una promoción?\n",
    "'''Cafe y novela'''\n",
    "\n",
    "#¿Qué sección de la tienda podría reorganizarse para aumentar ventas cruzadas?\n",
    "'''Literatura y poner bebidas como cafe para comprar novelas y un cafe'''"
   ]
  }
 ],
 "metadata": {
  "kernelspec": {
   "display_name": "Python 3",
   "language": "python",
   "name": "python3"
  },
  "language_info": {
   "codemirror_mode": {
    "name": "ipython",
    "version": 3
   },
   "file_extension": ".py",
   "mimetype": "text/x-python",
   "name": "python",
   "nbconvert_exporter": "python",
   "pygments_lexer": "ipython3",
   "version": "3.13.1"
  }
 },
 "nbformat": 4,
 "nbformat_minor": 5
}
