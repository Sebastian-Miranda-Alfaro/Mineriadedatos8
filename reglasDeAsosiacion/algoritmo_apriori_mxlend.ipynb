{
 "cells": [
  {
   "cell_type": "markdown",
   "id": "2a739457",
   "metadata": {},
   "source": [
    "## Algoritmo apriori con mlxtend"
   ]
  },
  {
   "cell_type": "code",
   "execution_count": 3,
   "id": "d914a243",
   "metadata": {},
   "outputs": [],
   "source": [
    "#Importamos las librerias necesarias\n",
    "import pandas as pd\n",
    "from mlxtend.frequent_patterns import apriori, association_rules #Importar la funcion apriori y association_rules\n",
    "from mlxtend.preprocessing import TransactionEncoder #Importar la funcion TransactionEncoder para transformar los datos"
   ]
  },
  {
   "cell_type": "markdown",
   "id": "253b56c7",
   "metadata": {},
   "source": [
    "#### Dataset de ejemplo (Transaccion de supermercado) Vamos a usar un pequeño dataset de ejemplo que representa compras en un supermercado"
   ]
  },
  {
   "cell_type": "code",
   "execution_count": null,
   "id": "e3150014",
   "metadata": {},
   "outputs": [
    {
     "name": "stdout",
     "output_type": "stream",
     "text": [
      "Dataset original\n",
      "Transacción 1: ['leche', 'pan', 'manzanas']\n",
      "Transacción 2: ['leche', 'pan', 'huevos', 'yogur']\n",
      "Transacción 3: ['pan', 'queso', 'huevos']\n",
      "Transacción 4: ['leche', 'queso', 'huevos', 'manzanas']\n",
      "Transacción 5: ['pan', 'leche', 'queso', 'huevos']\n",
      "Transacción 6: ['pan', 'leche', 'queso']\n"
     ]
    }
   ],
   "source": [
    "#Cada lista interna representa una transaccion (canasta de compra)\n",
    "transacciones = [\n",
    "    ['leche', 'pan', 'manzanas'],\n",
    "    ['leche', 'pan', 'huevos','yogur'],\n",
    "    ['pan','queso', 'huevos'],\n",
    "    ['leche','queso', 'huevos','manzanas'],\n",
    "    ['pan','leche', 'queso', 'huevos'],\n",
    "    ['pan','leche', 'queso']\n",
    "]\n",
    "\n",
    "print(\"Dataset original\")\n",
    "for i, trans in enumerate(transacciones, 1):\n",
    "    print(f\"Transacción {i}: {trans}\")"
   ]
  },
  {
   "cell_type": "markdown",
   "id": "ce8155d9",
   "metadata": {},
   "source": [
    "#### Preprocesamiento de datos: Convertimos las transacciones a un formato one-hot(binario) que necesita apriori"
   ]
  },
  {
   "cell_type": "code",
   "execution_count": 4,
   "id": "701f66cd",
   "metadata": {},
   "outputs": [
    {
     "name": "stdout",
     "output_type": "stream",
     "text": [
      "\n",
      "DataFrame transformado (One-Hot Encoding): \n",
      "   huevos  leche  manzanas    pan  queso  yogur\n",
      "0   False   True      True   True  False  False\n",
      "1    True   True     False   True  False   True\n",
      "2    True  False     False   True   True  False\n",
      "3    True   True      True  False   True  False\n",
      "4    True   True     False   True   True  False\n",
      "5   False   True     False   True   True  False\n"
     ]
    }
   ],
   "source": [
    "#Inicializamos el codificador de transacciones\n",
    "te = TransactionEncoder()\n",
    "\n",
    "#Ajustamos y transformamos los datos a formato one-hot\n",
    "#(cada producto se convierte en una columna y cada transacción en una fila)\n",
    "#El resultado es una matriz booleana donde True indica la presencia del producto en la transacción\n",
    "te_ary = te.fit(transacciones).transform(transacciones)\n",
    "\n",
    "#Convertimos a DataFrame de pandaspara mejor visualizacion}\n",
    "df = pd.DataFrame(te_ary, columns=te.columns_)\n",
    "print(\"\\nDataFrame transformado (One-Hot Encoding): \")\n",
    "print(df)"
   ]
  },
  {
   "cell_type": "markdown",
   "id": "5b0f9be8",
   "metadata": {},
   "source": [
    "#### Aplicacion del algoritmo apriori: Encontramos itemsets frecuentes (combinaciones de productos que aparecen juntos con frecuencia):"
   ]
  },
  {
   "cell_type": "code",
   "execution_count": 5,
   "id": "6f0dfe0a",
   "metadata": {},
   "outputs": [
    {
     "name": "stdout",
     "output_type": "stream",
     "text": [
      "\n",
      "Itemsets frecuentes (soporte >= %50):\n",
      "    support         itemsets\n",
      "1  0.833333          (leche)\n",
      "2  0.833333            (pan)\n",
      "0  0.666667         (huevos)\n",
      "3  0.666667          (queso)\n",
      "7  0.666667     (pan, leche)\n",
      "4  0.500000  (leche, huevos)\n",
      "5  0.500000    (pan, huevos)\n",
      "6  0.500000  (huevos, queso)\n",
      "8  0.500000   (leche, queso)\n",
      "9  0.500000     (pan, queso)\n"
     ]
    }
   ],
   "source": [
    "#Calculamos los itemsets frecuentes con un soporte mínimo del 50%\n",
    "#min_support=0.5 significa que el itemset debe aparecer en al menos el 50% de las transacciones\n",
    "# use_colnames=True significa que queremos los nombres de los productos en lugar de índices numericos\n",
    "frequent_itemsets = apriori(df, min_support=0.5, use_colnames=True)\n",
    "\n",
    "print(\"\\nItemsets frecuentes (soporte >= %50):\")\n",
    "print(frequent_itemsets.sort_values('support', ascending=False))"
   ]
  },
  {
   "cell_type": "markdown",
   "id": "770d564c",
   "metadata": {},
   "source": [
    "#### Generacion de reglas de asociacion: Ahora generamos reglas como \"Si compran X, entonces compran Y\""
   ]
  },
  {
   "cell_type": "code",
   "execution_count": 6,
   "id": "5ea01f83",
   "metadata": {},
   "outputs": [
    {
     "name": "stdout",
     "output_type": "stream",
     "text": [
      "\n",
      "Reglas de asociación (confianza >= 70% y lift > 1):\n",
      "  antecedents consequents  support  confidence   lift\n",
      "2    (huevos)     (queso)      0.5        0.75  1.125\n",
      "3     (queso)    (huevos)      0.5        0.75  1.125\n"
     ]
    }
   ],
   "source": [
    "#Generamos reglas con confianza mínima del 70%\n",
    "rules = association_rules(frequent_itemsets, metric=\"confidence\", min_threshold=0.7)\n",
    "\n",
    "#Filtramos reglas con lift > 1 (relaciones significativas)\n",
    "rules = rules[rules['lift'] > 1]\n",
    "\n",
    "print(\"\\nReglas de asociación (confianza >= 70% y lift > 1):\")\n",
    "print(rules[['antecedents', 'consequents', 'support', 'confidence', 'lift']].sort_values('lift', ascending=False))\n"
   ]
  },
  {
   "cell_type": "code",
   "execution_count": null,
   "id": "15007c7d",
   "metadata": {},
   "outputs": [],
   "source": [
    "'''\n",
    "Soporte (Support) = 0.5 (50%)\n",
    "Qué significa: El conjunto {Huevos, Queso} aparece en el 50% de todas las transacciones.\n",
    "Implicación: Es una combinación relativamente común en tus datos.\n",
    "\n",
    "Confianza (Confidence) = 0.75 (75%)\n",
    "Para {Huevos} → {Queso}: Cuando los clientes compran Huevos, el 75% de las veces también compran Queso.\n",
    "Para {Queso} → {Huevos}: Cuando los clientes compran Queso, el 75% de las veces también compran Huevos.\n",
    "\n",
    "Lift = 1.125\n",
    "Un lift > 1 indica que existe una relación positiva entre los productos.\n",
    "1.125 significa que la probabilidad de que compren ambos juntos es 1.125 veces mayor que si fueran independientes.\n",
    "No es una relación extremadamente fuerte (lift > 1.5 sería más significativo), pero sí existe cierta asociación.\n",
    "'''"
   ]
  }
 ],
 "metadata": {
  "kernelspec": {
   "display_name": "Python 3",
   "language": "python",
   "name": "python3"
  },
  "language_info": {
   "codemirror_mode": {
    "name": "ipython",
    "version": 3
   },
   "file_extension": ".py",
   "mimetype": "text/x-python",
   "name": "python",
   "nbconvert_exporter": "python",
   "pygments_lexer": "ipython3",
   "version": "3.13.1"
  }
 },
 "nbformat": 4,
 "nbformat_minor": 5
}
