{
 "cells": [
  {
   "cell_type": "markdown",
   "id": "9ba14d8c",
   "metadata": {},
   "source": [
    "## Ejercicio 2: Optimización de Inventario\n",
    "### Contexto: En Farmacia Saludable, quieren reducir desperdicios analizando compras conjuntas:\n",
    "#### Tareas:\n",
    "#### 1. Aplica Apriori con min_support=0.3.\n",
    "#### 2. Genera reglas con min_confidence=0.5.\n",
    "#### Preguntas clave: \n",
    "#### Si un cliente compra Jarabe, ¿qué otro producto tiene mayor probabilidad de comprar?\n",
    "#### ¿Qué par de productos debería colocarse juntos en el estante? Justifica con lift."
   ]
  },
  {
   "cell_type": "code",
   "execution_count": 1,
   "id": "b78a5f1a",
   "metadata": {},
   "outputs": [],
   "source": [
    "#Importamos las librerias\n",
    "import pandas as pd\n",
    "from mlxtend.frequent_patterns import apriori, association_rules \n",
    "from mlxtend.preprocessing import TransactionEncoder "
   ]
  },
  {
   "cell_type": "code",
   "execution_count": 2,
   "id": "5d35ec72",
   "metadata": {},
   "outputs": [
    {
     "name": "stdout",
     "output_type": "stream",
     "text": [
      "Dataset original\n",
      "Transacción 1: ['Analgésico', 'Jarabe', 'Curitas']\n",
      "Transacción 2: ['Termómetro', 'Jarabe']\n",
      "Transacción 3: ['Analgésico', 'Termómetro', 'Alcohol']\n",
      "Transacción 4: ['Jarabe', 'Alcohol', 'Curitas']\n",
      "Transacción 5: ['Analgésico', 'Jarabe']\n",
      "Transacción 6: ['Termómetro', 'Curitas']\n",
      "Transacción 7: ['Analgésico', 'Alcohol']\n"
     ]
    }
   ],
   "source": [
    "transacciones = [\n",
    "['Analgésico', 'Jarabe', 'Curitas'],\n",
    "['Termómetro', 'Jarabe'],\n",
    "['Analgésico', 'Termómetro', 'Alcohol'],\n",
    "['Jarabe', 'Alcohol', 'Curitas'],\n",
    "['Analgésico', 'Jarabe'],\n",
    "['Termómetro', 'Curitas'],\n",
    "['Analgésico', 'Alcohol']\n",
    "]\n",
    "\n",
    "print(\"Dataset original\")\n",
    "for i, trans in enumerate(transacciones, 1):\n",
    "    print(f\"Transacción {i}: {trans}\")"
   ]
  },
  {
   "cell_type": "code",
   "execution_count": 3,
   "id": "83159d18",
   "metadata": {},
   "outputs": [
    {
     "name": "stdout",
     "output_type": "stream",
     "text": [
      "\n",
      "DataFrame transformado (One-Hot Encoding): \n",
      "   Alcohol  Analgésico  Curitas  Jarabe  Termómetro\n",
      "0    False        True     True    True       False\n",
      "1    False       False    False    True        True\n",
      "2     True        True    False   False        True\n",
      "3     True       False     True    True       False\n",
      "4    False        True    False    True       False\n",
      "5    False       False     True   False        True\n",
      "6     True        True    False   False       False\n"
     ]
    }
   ],
   "source": [
    "te = TransactionEncoder()\n",
    "te_ary = te.fit(transacciones).transform(transacciones)\n",
    "df = pd.DataFrame(te_ary, columns=te.columns_)\n",
    "print(\"\\nDataFrame transformado (One-Hot Encoding): \")\n",
    "print(df)"
   ]
  },
  {
   "cell_type": "code",
   "execution_count": 4,
   "id": "43f5ae9d",
   "metadata": {},
   "outputs": [
    {
     "name": "stdout",
     "output_type": "stream",
     "text": [
      "\n",
      "Itemsets frecuentes (soporte >= %30):\n",
      "    support      itemsets\n",
      "1  0.571429  (Analgésico)\n",
      "3  0.571429      (Jarabe)\n",
      "0  0.428571     (Alcohol)\n",
      "2  0.428571     (Curitas)\n",
      "4  0.428571  (Termómetro)\n"
     ]
    }
   ],
   "source": [
    "frequent_itemsets = apriori(df, min_support=0.3, use_colnames=True)\n",
    "\n",
    "print(\"\\nItemsets frecuentes (soporte >= %30):\")\n",
    "print(frequent_itemsets.sort_values('support', ascending=False))"
   ]
  },
  {
   "cell_type": "code",
   "execution_count": 12,
   "id": "7a5ecace",
   "metadata": {},
   "outputs": [
    {
     "name": "stdout",
     "output_type": "stream",
     "text": [
      "\n",
      "Reglas de asociación (confianza >= 50% sin lift > 1):\n",
      "Empty DataFrame\n",
      "Columns: [antecedents, consequents, support, confidence, lift]\n",
      "Index: []\n"
     ]
    }
   ],
   "source": [
    "rules = association_rules(frequent_itemsets, metric=\"confidence\", min_threshold=0.5)\n",
    "print(\"\\nReglas de asociación (confianza >= 50% sin lift > 1):\")\n",
    "print(rules[['antecedents', 'consequents', 'support', 'confidence', 'lift']].sort_values('lift', ascending=False))"
   ]
  },
  {
   "cell_type": "markdown",
   "id": "14e0ec85",
   "metadata": {},
   "source": [
    "#### Pocas combinaciones de productos ocurren con una frecuencia del 30% o más, usare 0.2 para ampliar el alcance del analisis"
   ]
  },
  {
   "cell_type": "code",
   "execution_count": 14,
   "id": "fba39da0",
   "metadata": {},
   "outputs": [
    {
     "name": "stdout",
     "output_type": "stream",
     "text": [
      "\n",
      "Itemsets frecuentes (soporte >= %20):\n",
      "    support               itemsets\n",
      "1  0.571429           (Analgésico)\n",
      "3  0.571429               (Jarabe)\n",
      "0  0.428571              (Alcohol)\n",
      "2  0.428571              (Curitas)\n",
      "4  0.428571           (Termómetro)\n",
      "5  0.285714  (Alcohol, Analgésico)\n",
      "6  0.285714   (Analgésico, Jarabe)\n",
      "7  0.285714      (Curitas, Jarabe)\n"
     ]
    }
   ],
   "source": [
    "frequent_itemsets = apriori(df, min_support=0.2, use_colnames=True)\n",
    "\n",
    "print(\"\\nItemsets frecuentes (soporte >= %20):\")\n",
    "print(frequent_itemsets.sort_values('support', ascending=False))"
   ]
  },
  {
   "cell_type": "code",
   "execution_count": 15,
   "id": "dcd89486",
   "metadata": {},
   "outputs": [
    {
     "name": "stdout",
     "output_type": "stream",
     "text": [
      "\n",
      "Reglas de asociación (confianza >= 50% sin lift > 1):\n",
      "    antecedents   consequents   support  confidence      lift\n",
      "0     (Alcohol)  (Analgésico)  0.285714    0.666667  1.166667\n",
      "1  (Analgésico)     (Alcohol)  0.285714    0.500000  1.166667\n",
      "5      (Jarabe)     (Curitas)  0.285714    0.500000  1.166667\n",
      "4     (Curitas)      (Jarabe)  0.285714    0.666667  1.166667\n",
      "3      (Jarabe)  (Analgésico)  0.285714    0.500000  0.875000\n",
      "2  (Analgésico)      (Jarabe)  0.285714    0.500000  0.875000\n"
     ]
    }
   ],
   "source": [
    "rules = association_rules(frequent_itemsets, metric=\"confidence\", min_threshold=0.5)\n",
    "print(\"\\nReglas de asociación (confianza >= 50% sin lift > 1):\")\n",
    "print(rules[['antecedents', 'consequents', 'support', 'confidence', 'lift']].sort_values('lift', ascending=False))"
   ]
  },
  {
   "cell_type": "markdown",
   "id": "56041d35",
   "metadata": {},
   "source": [
    "#### Si un cliente compra Jarabe, ¿qué otro producto tiene mayor probabilidad de comprar?"
   ]
  },
  {
   "cell_type": "code",
   "execution_count": null,
   "id": "255ced24",
   "metadata": {},
   "outputs": [],
   "source": [
    "#\"Hay una tendencia significativa a que los clientes que compran Jarabe también compren Curitas. \n",
    "# Esta combinación ocurre en el 28.6% de las compras y es un 16.6% más frecuente\""
   ]
  },
  {
   "cell_type": "code",
   "execution_count": 16,
   "id": "c58b0c27",
   "metadata": {},
   "outputs": [
    {
     "name": "stdout",
     "output_type": "stream",
     "text": [
      "\n",
      "Reglas de asociación (confianza >= 50% con lift > 1):\n",
      "    antecedents   consequents   support  confidence      lift\n",
      "0     (Alcohol)  (Analgésico)  0.285714    0.666667  1.166667\n",
      "1  (Analgésico)     (Alcohol)  0.285714    0.500000  1.166667\n",
      "4     (Curitas)      (Jarabe)  0.285714    0.666667  1.166667\n",
      "5      (Jarabe)     (Curitas)  0.285714    0.500000  1.166667\n"
     ]
    }
   ],
   "source": [
    "rules = association_rules(frequent_itemsets, metric=\"confidence\", min_threshold=0.5)\n",
    "rules = rules[rules['lift'] > 1]\n",
    "print(\"\\nReglas de asociación (confianza >= 50% con lift > 1):\")\n",
    "print(rules[['antecedents', 'consequents', 'support', 'confidence', 'lift']].sort_values('lift', ascending=False))"
   ]
  },
  {
   "cell_type": "markdown",
   "id": "2120b55d",
   "metadata": {},
   "source": [
    "#### ¿Qué par de productos debería colocarse juntos en el estante? Justifica con lift."
   ]
  },
  {
   "cell_type": "code",
   "execution_count": null,
   "id": "81086cb6",
   "metadata": {},
   "outputs": [],
   "source": [
    "#La combinación Jarabe – Curitas tiene un lift de 1.1667, lo que significa que se compran juntos un 16.67% "
   ]
  }
 ],
 "metadata": {
  "kernelspec": {
   "display_name": "Python 3",
   "language": "python",
   "name": "python3"
  },
  "language_info": {
   "codemirror_mode": {
    "name": "ipython",
    "version": 3
   },
   "file_extension": ".py",
   "mimetype": "text/x-python",
   "name": "python",
   "nbconvert_exporter": "python",
   "pygments_lexer": "ipython3",
   "version": "3.13.1"
  }
 },
 "nbformat": 4,
 "nbformat_minor": 5
}
