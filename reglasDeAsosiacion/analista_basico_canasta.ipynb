{
 "cells": [
  {
   "cell_type": "markdown",
   "id": "8f8a7c3f",
   "metadata": {},
   "source": [
    "## Ejercicio 1: Análisis Básico de Canasta de Compra Contexto: Eres analista en MiniMarket ABC. Tienes datos de 8 transacciones:"
   ]
  },
  {
   "cell_type": "markdown",
   "id": "be6a8906",
   "metadata": {},
   "source": [
    "#### Tareas: \n",
    "#### 1. Preprocesa los datos con TransactionEncoder.\n",
    "####  2. Encuentra itemsets frecuentes con min_support=0.4. \n",
    "#### 3. Genera reglas con min_confidence=0.6 y filtra por lift > 1. \n",
    "#### Pregunta clave: ¿Qué producto está más asociado a \"Pan\"? Usa el lift como criterio"
   ]
  },
  {
   "cell_type": "code",
   "execution_count": null,
   "id": "ce17f08e",
   "metadata": {},
   "outputs": [],
   "source": [
    "#Importamos las librerias\n",
    "import pandas as pd\n",
    "from mlxtend.frequent_patterns import apriori, association_rules \n",
    "from mlxtend.preprocessing import TransactionEncoder "
   ]
  },
  {
   "cell_type": "code",
   "execution_count": 3,
   "id": "f6610234",
   "metadata": {},
   "outputs": [
    {
     "name": "stdout",
     "output_type": "stream",
     "text": [
      "Dataset original\n",
      "Transacción 1: ['Pan', 'Leche']\n",
      "Transacción 2: ['Pan', 'Pañales', 'Cerveza']\n",
      "Transacción 3: ['Leche', 'Pañales']\n",
      "Transacción 4: ['Pan', 'Leche', 'Pañales', 'Huevos']\n",
      "Transacción 5: ['Huevos', 'Leche']\n",
      "Transacción 6: ['Pan', 'Huevos']\n",
      "Transacción 7: ['Pañales', 'Cerveza']\n",
      "Transacción 8: ['Pan', 'Leche', 'Huevos']\n"
     ]
    }
   ],
   "source": [
    "\n",
    "transacciones = [\n",
    "['Pan', 'Leche'],\n",
    "['Pan', 'Pañales', 'Cerveza'],\n",
    "['Leche', 'Pañales'],\n",
    "['Pan', 'Leche', 'Pañales', 'Huevos'],\n",
    "['Huevos', 'Leche'],\n",
    "['Pan', 'Huevos'],\n",
    "['Pañales', 'Cerveza'],\n",
    "['Pan', 'Leche', 'Huevos']\n",
    "]\n",
    "\n",
    "print(\"Dataset original\")\n",
    "for i, trans in enumerate(transacciones, 1):\n",
    "    print(f\"Transacción {i}: {trans}\")"
   ]
  },
  {
   "cell_type": "code",
   "execution_count": 4,
   "id": "49832d31",
   "metadata": {},
   "outputs": [
    {
     "name": "stdout",
     "output_type": "stream",
     "text": [
      "\n",
      "DataFrame transformado (One-Hot Encoding): \n",
      "   Cerveza  Huevos  Leche    Pan  Pañales\n",
      "0    False   False   True   True    False\n",
      "1     True   False  False   True     True\n",
      "2    False   False   True  False     True\n",
      "3    False    True   True   True     True\n",
      "4    False    True   True  False    False\n",
      "5    False    True  False   True    False\n",
      "6     True   False  False  False     True\n",
      "7    False    True   True   True    False\n"
     ]
    }
   ],
   "source": [
    "te = TransactionEncoder()\n",
    "te_ary = te.fit(transacciones).transform(transacciones)\n",
    "df = pd.DataFrame(te_ary, columns=te.columns_)\n",
    "print(\"\\nDataFrame transformado (One-Hot Encoding): \")\n",
    "print(df)"
   ]
  },
  {
   "cell_type": "code",
   "execution_count": 19,
   "id": "65c8b3c2",
   "metadata": {},
   "outputs": [
    {
     "name": "stdout",
     "output_type": "stream",
     "text": [
      "\n",
      "Itemsets frecuentes (soporte >= %40):\n",
      "   support   itemsets\n",
      "1    0.625    (Leche)\n",
      "2    0.625      (Pan)\n",
      "0    0.500   (Huevos)\n",
      "3    0.500  (Pañales)\n"
     ]
    }
   ],
   "source": [
    "frequent_itemsets = apriori(df, min_support=0.4, use_colnames=True)\n",
    "\n",
    "print(\"\\nItemsets frecuentes (soporte >= %40):\")\n",
    "print(frequent_itemsets.sort_values('support', ascending=False))"
   ]
  },
  {
   "cell_type": "code",
   "execution_count": 20,
   "id": "4025873a",
   "metadata": {},
   "outputs": [
    {
     "name": "stdout",
     "output_type": "stream",
     "text": [
      "\n",
      "Reglas de asociación (confianza >= 60% y lift > 1):\n",
      "Empty DataFrame\n",
      "Columns: [antecedents, consequents, support, confidence, lift]\n",
      "Index: []\n"
     ]
    }
   ],
   "source": [
    "#Generamos reglas con confianza mínima del 60%\n",
    "rules = association_rules(frequent_itemsets, metric=\"confidence\", min_threshold=0.6)\n",
    "\n",
    "#Filtramos reglas con lift > 1\n",
    "rules = rules[rules['lift'] > 1]\n",
    "\n",
    "print(\"\\nReglas de asociación (confianza >= 60% y lift > 1):\")\n",
    "print(rules[['antecedents', 'consequents', 'support', 'confidence', 'lift']].sort_values('lift', ascending=False))"
   ]
  },
  {
   "cell_type": "markdown",
   "id": "4bec25d1",
   "metadata": {},
   "source": [
    "#### Como se generan muy pocos datos con min_support=0.4, bajare a min_support=0.3 para bajar el soporte minimo de apriori"
   ]
  },
  {
   "cell_type": "code",
   "execution_count": 35,
   "id": "b23b38ec",
   "metadata": {},
   "outputs": [
    {
     "name": "stdout",
     "output_type": "stream",
     "text": [
      "\n",
      "Itemsets frecuentes (soporte >= %30):\n",
      "   support         itemsets\n",
      "1    0.625          (Leche)\n",
      "2    0.625            (Pan)\n",
      "0    0.500         (Huevos)\n",
      "3    0.500        (Pañales)\n",
      "4    0.375  (Huevos, Leche)\n",
      "5    0.375    (Huevos, Pan)\n",
      "6    0.375     (Leche, Pan)\n"
     ]
    }
   ],
   "source": [
    "frequent_itemsets = apriori(df, min_support=0.3, use_colnames=True)\n",
    "\n",
    "print(\"\\nItemsets frecuentes (soporte >= %30):\")\n",
    "print(frequent_itemsets.sort_values('support', ascending=False))"
   ]
  },
  {
   "cell_type": "code",
   "execution_count": 34,
   "id": "c41ba38b",
   "metadata": {},
   "outputs": [
    {
     "name": "stdout",
     "output_type": "stream",
     "text": [
      "\n",
      "Reglas de asociación (confianza >= 60% y lift > 1):\n",
      "  antecedents consequents  support  confidence  lift\n",
      "0    (Huevos)     (Leche)    0.375        0.75   1.2\n",
      "1     (Leche)    (Huevos)    0.375        0.60   1.2\n",
      "2    (Huevos)       (Pan)    0.375        0.75   1.2\n",
      "3       (Pan)    (Huevos)    0.375        0.60   1.2\n"
     ]
    }
   ],
   "source": [
    "rules = association_rules(frequent_itemsets, metric=\"confidence\", min_threshold=0.6)\n",
    "\n",
    "rules = rules[rules['lift'] > 1]\n",
    "\n",
    "print(\"\\nReglas de asociación (confianza >= 60% y lift > 1):\")\n",
    "print(rules[['antecedents', 'consequents', 'support', 'confidence', 'lift']].sort_values('lift', ascending=False))"
   ]
  },
  {
   "cell_type": "markdown",
   "id": "a1d96c6f",
   "metadata": {},
   "source": [
    "¿Qué producto está más asociado a \"Pan\"? Usa el lift como criterio.\n",
    "\n",
    "Huevos"
   ]
  }
 ],
 "metadata": {
  "kernelspec": {
   "display_name": "Python 3",
   "language": "python",
   "name": "python3"
  },
  "language_info": {
   "codemirror_mode": {
    "name": "ipython",
    "version": 3
   },
   "file_extension": ".py",
   "mimetype": "text/x-python",
   "name": "python",
   "nbconvert_exporter": "python",
   "pygments_lexer": "ipython3",
   "version": "3.13.1"
  }
 },
 "nbformat": 4,
 "nbformat_minor": 5
}
