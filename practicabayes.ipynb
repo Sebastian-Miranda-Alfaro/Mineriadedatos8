{
 "cells": [
  {
   "cell_type": "markdown",
   "metadata": {},
   "source": [
    "#### Ejercicio 1: Clasificación de frutas (Una característica)\n",
    "En un mercado, hay dos tipos de frutas: manzanas y peras. Sabes que:\n",
    "El 60% de las frutas son manzanas y el 40% son peras.\n",
    "El 70% de las manzanas son rojas y solo el 20% de las peras son rojas.\n",
    "Si tomas una fruta al azar y resulta ser roja, ¿cuál es la probabilidad de que sea una manzana?"
   ]
  },
  {
   "cell_type": "code",
   "execution_count": 32,
   "metadata": {},
   "outputs": [],
   "source": [
    "import pandas as pd \n",
    "\n",
    "datos = {\n",
    "    'Fruta':[\"Manzana\",\"Manzana\",\"Manzana\",\"Manzana\",\"Manzana\",\"Manzana\",\"Pera\",\"Pera\",\"Pera\",\"Pera\"],\n",
    "    'Color':[\"Rojo\",\"Rojo\",\"Rojo\",\"Rojo\",\"Verde\",\"Verde\",\"Rojo\",\"Verde\",\"Verde\",\"Verde\"]    \n",
    "}"
   ]
  },
  {
   "cell_type": "code",
   "execution_count": 2,
   "metadata": {},
   "outputs": [
    {
     "name": "stdout",
     "output_type": "stream",
     "text": [
      "     Fruta  Color\n",
      "0  Manzana   Rojo\n",
      "1  Manzana   Rojo\n",
      "2  Manzana   Rojo\n",
      "3  Manzana   Rojo\n",
      "4  Manzana  Verde\n",
      "5  Manzana  Verde\n",
      "6     Pera   Rojo\n",
      "7     Pera  Verde\n",
      "8     Pera  Verde\n",
      "9     Pera  Verde\n"
     ]
    }
   ],
   "source": [
    "df=pd.DataFrame(datos)\n",
    "print(df)"
   ]
  },
  {
   "cell_type": "code",
   "execution_count": 3,
   "metadata": {},
   "outputs": [
    {
     "name": "stdout",
     "output_type": "stream",
     "text": [
      "P(Manzana) = 0.6\n",
      "P(Pera) = 0.4\n"
     ]
    }
   ],
   "source": [
    "total = len(df)\n",
    "prob_manzana = len(df[df['Fruta'] == \"Manzana\"]) / total\n",
    "prob_pera    = len(df[df['Fruta'] == \"Pera\"]) / total\n",
    "\n",
    "print(f\"P(Manzana) = {prob_manzana}\")\n",
    "print(f\"P(Pera) = {prob_pera}\")"
   ]
  },
  {
   "cell_type": "code",
   "execution_count": 4,
   "metadata": {},
   "outputs": [],
   "source": [
    "manzanas = df[df['Fruta'] == \"Manzana\"] \n",
    "peras = df[df['Fruta'] == \"Pera\"]"
   ]
  },
  {
   "cell_type": "code",
   "execution_count": 5,
   "metadata": {},
   "outputs": [],
   "source": [
    "p_rojo_manzana = len(manzanas[manzanas['Color'] == \"Rojo\"]) / len(manzanas)\n",
    "p_rojo_pera =  len(peras[peras['Color'] == \"Rojo\"]) / len(peras)"
   ]
  },
  {
   "cell_type": "code",
   "execution_count": 6,
   "metadata": {},
   "outputs": [
    {
     "name": "stdout",
     "output_type": "stream",
     "text": [
      "P(color=Rojo|Manzana = 0.6666666666666666)\n",
      "P(color=Rojo|Pera) = 0.25\n"
     ]
    }
   ],
   "source": [
    "print(f\"P(color=Rojo|Manzana = {p_rojo_manzana})\")\n",
    "print(f\"P(color=Rojo|Pera) = {p_rojo_pera}\")"
   ]
  },
  {
   "cell_type": "code",
   "execution_count": 7,
   "metadata": {},
   "outputs": [],
   "source": [
    "nuevo_color = 'Rojo'"
   ]
  },
  {
   "cell_type": "code",
   "execution_count": 8,
   "metadata": {},
   "outputs": [],
   "source": [
    "p_rojo = (p_rojo_manzana * prob_manzana) + (p_rojo_pera * prob_pera)"
   ]
  },
  {
   "cell_type": "code",
   "execution_count": 9,
   "metadata": {},
   "outputs": [
    {
     "name": "stdout",
     "output_type": "stream",
     "text": [
      "P(Manzana | Rojo) = 0.80\n"
     ]
    }
   ],
   "source": [
    "p_manzana_rojo = (p_rojo_manzana * prob_manzana) / p_rojo\n",
    "\n",
    "print(f\"P(Manzana | Rojo) = {p_manzana_rojo:.2f}\")\n"
   ]
  }
 ],
 "metadata": {
  "kernelspec": {
   "display_name": "base",
   "language": "python",
   "name": "python3"
  },
  "language_info": {
   "codemirror_mode": {
    "name": "ipython",
    "version": 3
   },
   "file_extension": ".py",
   "mimetype": "text/x-python",
   "name": "python",
   "nbconvert_exporter": "python",
   "pygments_lexer": "ipython3",
   "version": "3.12.7"
  }
 },
 "nbformat": 4,
 "nbformat_minor": 2
}
