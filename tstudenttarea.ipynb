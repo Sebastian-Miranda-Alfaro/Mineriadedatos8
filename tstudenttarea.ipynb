{
 "cells": [
  {
   "cell_type": "code",
   "execution_count": 1,
   "metadata": {},
   "outputs": [],
   "source": [
    "import numpy as np \n",
    "from scipy import stats"
   ]
  },
  {
   "cell_type": "markdown",
   "metadata": {},
   "source": [
    "#### Ejercicio 1: Una empresa de tecnología afirma que el tiempo promedio que sus empleados tardan en resolver un ticket de soporte es de 45 minutos. Para verificar esta afirmación, se toma una muestra aleatoria de 25 empleados y se mide el tiempo (en minutos) que cada uno tarda en resolver un ticket. ¿El tiempo promedio de resolución de la muestra es significativamente diferente de 45 minutos?\n"
   ]
  },
  {
   "cell_type": "code",
   "execution_count": 2,
   "metadata": {},
   "outputs": [],
   "source": [
    "np.random.seed(42)\n",
    "muestra=np.random.normal(45,10,25)"
   ]
  },
  {
   "cell_type": "code",
   "execution_count": 3,
   "metadata": {},
   "outputs": [
    {
     "name": "stdout",
     "output_type": "stream",
     "text": [
      "Estádistico t: -0.8547 Valor p: 0.4012\n"
     ]
    }
   ],
   "source": [
    "t_state,p_value=stats.ttest_1samp(muestra,45)\n",
    "print(f\"Estádistico t: {t_state:.4f} Valor p: {p_value:.4f}\")"
   ]
  },
  {
   "cell_type": "code",
   "execution_count": 4,
   "metadata": {},
   "outputs": [
    {
     "name": "stdout",
     "output_type": "stream",
     "text": [
      "No hay evidencia suficiente para rechazar: el tiempo promedio no es significativamente diferente de 45 minutos.\n"
     ]
    }
   ],
   "source": [
    "if p_value <0.05:\n",
    "    print(\"Rechazamos la hipotesis nula: el tiempo promedio es significativamente diferente de 45 minutos.\")\n",
    "else:\n",
    "    print(\"No hay evidencia suficiente para rechazar: el tiempo promedio no es significativamente diferente de 45 minutos.\")"
   ]
  },
  {
   "cell_type": "markdown",
   "metadata": {},
   "source": [
    "#### Ejercicio 2: Un gimnasio quiere comparar la efectividad de dos programas de entrenamiento en la pérdida de peso. Para ello, selecciona 30 personas aleatoriamente y las divide en dos grupos: Grupo A: Entrenamiento tradicional Grupo B: Entrenamiento de alta intensidad Después de 3 meses, se mide la pérdida de peso (en kg) de cada persona. ¿Hay una diferencia significativa entre los dos programas?"
   ]
  },
  {
   "cell_type": "code",
   "execution_count": 5,
   "metadata": {},
   "outputs": [
    {
     "name": "stdout",
     "output_type": "stream",
     "text": [
      "Estadístico t: -4.5129\n",
      "Valor p: 0.0000\n",
      "Rechazamos la hipótesis nula: hay una diferencia significativa en la pérdida de peso entre los programas.\n"
     ]
    }
   ],
   "source": [
    "np.random.seed(42)\n",
    "grupo_a = np.random.normal(3, 1, 30)  # Media 3 kg, Desv. Est. 1 kg\n",
    "grupo_b = np.random.normal(4, 1, 30)  # Media 4 kg, Desv. Est. 1 kg\n",
    "\n",
    "# Prueba t para muestras independientes\n",
    "t_stat, p_value = stats.ttest_ind(grupo_a, grupo_b)\n",
    "\n",
    "# Resultados\n",
    "print(f'Estadístico t: {t_stat:.4f}')\n",
    "print(f'Valor p: {p_value:.4f}')\n",
    "\n",
    "if p_value < 0.05:\n",
    "    print(\"Rechazamos la hipótesis nula: hay una diferencia significativa en la pérdida de peso entre los programas.\")\n",
    "else:\n",
    "    print(\"No hay evidencia suficiente para rechazar la hipótesis nula: no hay diferencia significativa entre los programas.\")\n"
   ]
  },
  {
   "cell_type": "markdown",
   "metadata": {},
   "source": [
    "#### Ejercicio 3: Un nutricionista quiere evaluar si una dieta especial reduce los niveles de colesterol en sus pacientes. Se seleccionan 20 personas y se miden sus niveles de colesterol antes y después de 2 meses de seguir la dieta. ¿Hubo una reducción significativa en los niveles de colesterol después del tratamiento?"
   ]
  },
  {
   "cell_type": "code",
   "execution_count": 6,
   "metadata": {},
   "outputs": [
    {
     "name": "stdout",
     "output_type": "stream",
     "text": [
      "Estadístico t: 8.0108\n",
      "Valor p: 0.0000\n",
      "Rechazamos la hipótesis nula: la dieta redujo significativamente los niveles de colesterol.\n"
     ]
    }
   ],
   "source": [
    "np.random.seed(42)\n",
    "colesterol_antes = np.random.normal(200, 15, 20)  # Media 200, Desv. Est. 15\n",
    "colesterol_despues = colesterol_antes - np.random.normal(10, 5, 20)  # Reducción promedio de 10\n",
    "\n",
    "# Prueba t para muestras pareadas\n",
    "t_stat, p_value = stats.ttest_rel(colesterol_antes, colesterol_despues)\n",
    "\n",
    "# Resultados\n",
    "print(f'Estadístico t: {t_stat:.4f}')\n",
    "print(f'Valor p: {p_value:.4f}')\n",
    "\n",
    "if p_value < 0.05:\n",
    "    print(\"Rechazamos la hipótesis nula: la dieta redujo significativamente los niveles de colesterol.\")\n",
    "else:\n",
    "    print(\"No hay evidencia suficiente para rechazar la hipótesis nula: la dieta no redujo significativamente los niveles de colesterol.\")\n"
   ]
  },
  {
   "cell_type": "markdown",
   "metadata": {},
   "source": [
    "#### Ejercicio 4: Un investigador quiere saber si hay una diferencia significativa en la velocidad de reacción entre personas jóvenes (18-30 años) y adultos mayores (60+ años). Se seleccionan 40 personas y se mide el tiempo (en milisegundos) que tardan en responder a un estímulo visual. ¿Las velocidades de reacción son significativamente diferentes entre los grupos?"
   ]
  },
  {
   "cell_type": "code",
   "execution_count": 7,
   "metadata": {},
   "outputs": [
    {
     "name": "stdout",
     "output_type": "stream",
     "text": [
      "Estadístico t: -5.9773\n",
      "Valor p: 0.0000\n",
      "Rechazamos la hipótesis nula: hay una diferencia significativa en la velocidad de reacción entre los grupos.\n"
     ]
    }
   ],
   "source": [
    "np.random.seed(42)\n",
    "jovenes = np.random.normal(250, 30, 20)  # Media 250 ms, Desv. Est. 30 ms\n",
    "adultos_mayores = np.random.normal(320, 40, 20)  # Media 320 ms, Desv. Est. 40 ms\n",
    "\n",
    "# Prueba t para muestras independientes\n",
    "t_stat, p_value = stats.ttest_ind(jovenes, adultos_mayores)\n",
    "\n",
    "# Resultados\n",
    "print(f'Estadístico t: {t_stat:.4f}')\n",
    "print(f'Valor p: {p_value:.4f}')\n",
    "\n",
    "if p_value < 0.05:\n",
    "    print(\"Rechazamos la hipótesis nula: hay una diferencia significativa en la velocidad de reacción entre los grupos.\")\n",
    "else:\n",
    "    print(\"No hay evidencia suficiente para rechazar la hipótesis nula: no hay diferencia significativa en la velocidad de reacción.\")\n"
   ]
  }
 ],
 "metadata": {
  "kernelspec": {
   "display_name": "base",
   "language": "python",
   "name": "python3"
  },
  "language_info": {
   "codemirror_mode": {
    "name": "ipython",
    "version": 3
   },
   "file_extension": ".py",
   "mimetype": "text/x-python",
   "name": "python",
   "nbconvert_exporter": "python",
   "pygments_lexer": "ipython3",
   "version": "3.12.7"
  }
 },
 "nbformat": 4,
 "nbformat_minor": 2
}
