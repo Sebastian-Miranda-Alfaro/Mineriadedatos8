{
 "cells": [
  {
   "cell_type": "markdown",
   "metadata": {},
   "source": [
    "#### Registro de temperaturas: Se necesita crear un registro que contenga las temperaturas promedio de una ciudad durante 7 días. La serie debe incluir los días de la semana como índice y las temperaturas como valores. Luego, calcula la temperatura promedio de la semana."
   ]
  },
  {
   "cell_type": "code",
   "execution_count": 41,
   "metadata": {},
   "outputs": [
    {
     "name": "stdout",
     "output_type": "stream",
     "text": [
      "La temperatura promedio de la semana es 24.6\n",
      "Lunes        22\n",
      "Martes       26\n",
      "Miercoles    24\n",
      "Jueves       23\n",
      "Viernes      23\n",
      "Sabado       29\n",
      "Domingo      25\n",
      "dtype: int64\n"
     ]
    }
   ],
   "source": [
    "import pandas as pd \n",
    "\n",
    "temperatura=pd.Series([22,26,24,23,23,29,25], index=[\"Lunes\",\"Martes\",\"Miercoles\",\n",
    "\"Jueves\",\"Viernes\",\"Sabado\",\"Domingo\"])\n",
    "tempprom=temperatura.mean()\n",
    "print(f\"La temperatura promedio de la semana es {tempprom:.1f}\")\n",
    "print(temperatura)"
   ]
  },
  {
   "cell_type": "markdown",
   "metadata": {},
   "source": [
    "#### Inventario de productos: Crea una serie que represente el inventario de una tienda, donde el índice sea el nombre del producto y los valores sean la cantidad disponible en stock. Luego, filtra los productos que tienen menos de 10 unidades en stock."
   ]
  },
  {
   "cell_type": "code",
   "execution_count": 42,
   "metadata": {},
   "outputs": [
    {
     "name": "stdout",
     "output_type": "stream",
     "text": [
      "Los productos con menos de 10 son \n",
      "Pingüinos    9\n",
      "Pepsi        5\n",
      "Oreo         2\n",
      "dtype: int64\n"
     ]
    }
   ],
   "source": [
    "inventario = pd.Series([20,15,9,5,10,2],index=[\"Gansito\",\"Nito\",\"Pingüinos\",\"Pepsi\",\"Electrolit\",\"Oreo\"])\n",
    "bajo=inventario[inventario<10]\n",
    "print(f\"Los productos con menos de 10 son \\n{bajo}\")"
   ]
  },
  {
   "cell_type": "markdown",
   "metadata": {},
   "source": [
    "#### Precios de productos: Genera una serie que contenga los precios de 5 productos diferentes. Luego, aplica un descuento del 15% a cada producto y muestra la serie actualizada."
   ]
  },
  {
   "cell_type": "code",
   "execution_count": 3,
   "metadata": {},
   "outputs": [
    {
     "name": "stdout",
     "output_type": "stream",
     "text": [
      "Los productos con descuento son \n",
      "Papas        85.00\n",
      "Queso        25.50\n",
      "Jamon        38.25\n",
      "Pan          17.00\n",
      "Tortillas    13.60\n",
      "dtype: float64\n"
     ]
    }
   ],
   "source": [
    "precio=pd.Series([100,30,45,20,16],index=[\"Papas\",\"Queso\",\"Jamon\",\"Pan\",\"Tortillas\"])\n",
    "precio=precio-precio*0.15\n",
    "print(f\"Los productos con descuento son \\n{precio}\")"
   ]
  },
  {
   "cell_type": "markdown",
   "metadata": {},
   "source": [
    "#### Calificaciones de estudiantes: Crea una serie que almacene las calificaciones de 10 estudiantes en un examen. El índice debe ser el nombre del estudiante. Encuentra la calificación más alta y la más baja."
   ]
  },
  {
   "cell_type": "code",
   "execution_count": 2,
   "metadata": {},
   "outputs": [
    {
     "name": "stdout",
     "output_type": "stream",
     "text": [
      "La calificacion mayor es de 10\n",
      "La calificacion menor es de 1\n"
     ]
    }
   ],
   "source": [
    "estudiantes = pd.Series([10,9,8,7,6,5,4,3,2,1],index=[\"Carlos\",\"Uriel\",\"Alan\",\"Antonio\",\n",
    "                                                      \"Sebastian\",\"Maria\",\"Emiliano\",\"Eduardo\",\"Kevin\",\"Luis\"]) \n",
    "print(f\"La calificacion mayor es de {estudiantes.max()}\")\n",
    "print(f\"La calificacion menor es de {estudiantes.min()}\")"
   ]
  },
  {
   "cell_type": "markdown",
   "metadata": {},
   "source": [
    "#### Registro de ventas: Genera una serie que represente las ventas diarias de una tienda durante 5 días. Luego, calcula el total de ventas de la semana y el día con mayores ventas."
   ]
  },
  {
   "cell_type": "code",
   "execution_count": 1,
   "metadata": {},
   "outputs": [
    {
     "name": "stdout",
     "output_type": "stream",
     "text": [
      "Total de ventas de la semana: 1070\n",
      "Día con más ventas: Lunes\n"
     ]
    }
   ],
   "source": [
    "import pandas as pd\n",
    "\n",
    "ventas=pd.Series([300, 200, 180, 220, 170], index=[\"Lunes\", \"Martes\", \"Miércoles\", \"Jueves\", \"Viernes\"])\n",
    "TotalVentas = ventas.sum()\n",
    "MaxVentas = ventas.idxmax()\n",
    "print(f\"Total de ventas de la semana: {TotalVentas}\")\n",
    "print(f\"Día con más ventas: {MaxVentas}\")"
   ]
  },
  {
   "cell_type": "markdown",
   "metadata": {},
   "source": [
    "#### Comparación de precios: Crea dos series que representen los precios de los mismos productos en dos tiendas diferentes. Compara las series para identificar en qué tienda los productos son más baratos."
   ]
  },
  {
   "cell_type": "code",
   "execution_count": 37,
   "metadata": {},
   "outputs": [
    {
     "name": "stdout",
     "output_type": "stream",
     "text": [
      "Los productos de la tienda 1 mas baratos son \n",
      "Gansito       False\n",
      "Nito          False\n",
      "Pingüinos      True\n",
      "Pepsi          True\n",
      "Electrolit    False\n",
      "Oreo           True\n",
      "dtype: bool\n"
     ]
    }
   ],
   "source": [
    "Tienda1 = pd.Series([20,15,9,5,10,2],index=[\"Gansito\",\"Nito\",\"Pingüinos\",\"Pepsi\",\"Electrolit\",\"Oreo\"])\n",
    "Tienda2 = pd.Series([18,13,11,6,10,3],index=[\"Gansito\",\"Nito\",\"Pingüinos\",\"Pepsi\",\"Electrolit\",\"Oreo\"])\n",
    "print(\"Los productos de la tienda 1 mas baratos son \")\n",
    "print(Tienda1<Tienda2)\n"
   ]
  },
  {
   "cell_type": "markdown",
   "metadata": {},
   "source": [
    "#### Suma de series: Genera dos series que representen los ingresos y gastos diarios de una empresa durante 5 días. Luego, crea una tercera serie que muestre el beneficio diario (ingresos - gastos)."
   ]
  },
  {
   "cell_type": "code",
   "execution_count": 58,
   "metadata": {},
   "outputs": [
    {
     "name": "stdout",
     "output_type": "stream",
     "text": [
      "Ingresos:\n",
      " Gansito      51\n",
      "Coca-Cola    94\n",
      "Sabritas     95\n",
      "Queso         7\n",
      "Leche        60\n",
      "dtype: int32\n",
      "\n",
      "Gastos:\n",
      " Gansito      46\n",
      "Coca-Cola    43\n",
      "Sabritas     55\n",
      "Queso        26\n",
      "Leche         9\n",
      "dtype: int32\n",
      "\n",
      "Beneficios:\n",
      " Gansito       5\n",
      "Coca-Cola    51\n",
      "Sabritas     40\n",
      "Queso       -19\n",
      "Leche        51\n",
      "dtype: int32\n"
     ]
    }
   ],
   "source": [
    "import numpy as np\n",
    "import pandas as pd\n",
    "\n",
    "ingresos = pd.Series(np.random.randint(1, 100, 5), \n",
    "                     index=[\"Gansito\", \"Coca-Cola\", \"Sabritas\", \"Queso\", \"Leche\"])\n",
    "\n",
    "gastos = pd.Series(np.random.randint(1, 100, 5), \n",
    "                   index=[\"Gansito\", \"Coca-Cola\", \"Sabritas\", \"Queso\", \"Leche\"])\n",
    "\n",
    "beneficios = ingresos - gastos\n",
    "print(\"Ingresos:\\n\", ingresos)\n",
    "print(\"\\nGastos:\\n\", gastos)\n",
    "print(\"\\nBeneficios:\\n\", beneficios)"
   ]
  },
  {
   "cell_type": "markdown",
   "metadata": {},
   "source": [
    "#### Filtrado de datos: Crea una serie que contenga las edades de 15 personas. Filtra la serie para mostrar solo las edades mayores a 18 años."
   ]
  },
  {
   "cell_type": "code",
   "execution_count": 40,
   "metadata": {},
   "outputs": [
    {
     "name": "stdout",
     "output_type": "stream",
     "text": [
      "Las edades mayor de 18 son \n",
      "Carlos    33\n",
      "Uriel     32\n",
      "Alan      18\n",
      "Alexis    20\n",
      "Juan      22\n",
      "Pablo     28\n",
      "Jesus     27\n",
      "Mateo     26\n",
      "dtype: int64\n"
     ]
    }
   ],
   "source": [
    "edades=pd.Series([33,32,18,17,16,15,14,13,12,11,20,22,28,27,26],index=[\"Carlos\",\"Uriel\",\"Alan\",\"Antonio\",\n",
    "                                                      \"Sebastian\",\"Maria\",\"Emiliano\",\"Eduardo\",\"Kevin\",\"Luis\",\n",
    "                                                      \"Alexis\",\"Juan\",\"Pablo\",\"Jesus\",\"Mateo\"]) \n",
    "edadesMayores = edades [edades >=18]\n",
    "print(f\"Las edades mayor de 18 son \\n{edadesMayores}\")"
   ]
  },
  {
   "cell_type": "markdown",
   "metadata": {},
   "source": [
    "#### Aplicación de funciones: Genera una serie que contenga los valores de 10 números aleatorios. Aplica una función que eleve al cuadrado cada valor y muestra la serie resultante."
   ]
  },
  {
   "cell_type": "code",
   "execution_count": 54,
   "metadata": {},
   "outputs": [
    {
     "name": "stdout",
     "output_type": "stream",
     "text": [
      "Números aleatorios:\n",
      "0    [14, 3, 43, 2, 12, 33, 37, 15, 29, 1]\n",
      "dtype: object\n",
      "Números aleatorios al cuadrado: \n",
      "0    [196, 9, 1849, 4, 144, 1089, 1369, 225, 841, 1]\n",
      "dtype: object\n"
     ]
    }
   ],
   "source": [
    "import numpy as np\n",
    "nums=pd.Series([np.random.randint(1,50,10)])\n",
    "res=np.power(nums,2)\n",
    "\n",
    "print(f\"Números aleatorios:\\n{nums}\")\n",
    "print(f\"Números aleatorios al cuadrado: \\n{res}\")"
   ]
  },
  {
   "cell_type": "markdown",
   "metadata": {},
   "source": [
    "#### Concatenación de series: Crea dos series que representen las ventas de dos meses diferentes. Concatena las series para obtener un registro completo de ventas de los dos meses."
   ]
  },
  {
   "cell_type": "code",
   "execution_count": null,
   "metadata": {},
   "outputs": [
    {
     "name": "stdout",
     "output_type": "stream",
     "text": [
      "Las ventas totales son: \n",
      "Gansito       38\n",
      "Nito          28\n",
      "Pingüinos     20\n",
      "Pepsi         11\n",
      "Electrolit    20\n",
      "Oreo           5\n",
      "dtype: int64\n"
     ]
    }
   ],
   "source": [
    "Enero = pd.Series([20,15,9,5,10,2],index=[\"Gansito\",\"Nito\",\"Pingüinos\",\"Pepsi\",\"Electrolit\",\"Oreo\"])\n",
    "Febrero = pd.Series([18,13,11,6,10,3],index=[\"Gansito\",\"Nito\",\"Pingüinos\",\"Pepsi\",\"Electrolit\",\"Oreo\"])\n",
    "#pd.concat([Enero, Febrero])\n",
    "\n",
    "ventasTotales=Enero+Febrero\n",
    "print(f\"Las ventas totales son: \\n{ventasTotales}\")"
   ]
  }
 ],
 "metadata": {
  "kernelspec": {
   "display_name": "base",
   "language": "python",
   "name": "python3"
  },
  "language_info": {
   "codemirror_mode": {
    "name": "ipython",
    "version": 3
   },
   "file_extension": ".py",
   "mimetype": "text/x-python",
   "name": "python",
   "nbconvert_exporter": "python",
   "pygments_lexer": "ipython3",
   "version": "3.12.7"
  }
 },
 "nbformat": 4,
 "nbformat_minor": 2
}
