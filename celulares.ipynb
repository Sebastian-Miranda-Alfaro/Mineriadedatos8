{
 "cells": [
  {
   "cell_type": "markdown",
   "metadata": {},
   "source": [
    "#### Problema 2: Duración de Baterías de Celulares Un fabricante de celulares asegura que la duración promedio de sus baterías es de 20 horas. Se toma una muestra de 30 baterías y se encuentra que su duración promedio es de 18.5 horas, con una desviación estándar de 2.5 horas. Con un nivel de significancia del 5%, ¿se puede concluir que la duración de las baterías es menor a la especificada por el fabricante? "
   ]
  },
  {
   "cell_type": "code",
   "execution_count": 2,
   "metadata": {},
   "outputs": [],
   "source": [
    "import numpy as np \n",
    "import pandas as pd \n",
    "import scipy.stats as stats \n",
    "\n",
    "#Datos del problema \n",
    "mu_0 = 20\n",
    "n = 30\n",
    "x_bar = 18.5\n",
    "s = 2.5\n",
    "alpha = 0.05"
   ]
  },
  {
   "cell_type": "markdown",
   "metadata": {},
   "source": [
    "#### Calculo del estadistico de z"
   ]
  },
  {
   "cell_type": "code",
   "execution_count": 10,
   "metadata": {},
   "outputs": [],
   "source": [
    "z = (x_bar - mu_0)/(s/np.sqrt(n))\n"
   ]
  },
  {
   "cell_type": "markdown",
   "metadata": {},
   "source": [
    "#### Valor critico de prueba"
   ]
  },
  {
   "cell_type": "code",
   "execution_count": 7,
   "metadata": {},
   "outputs": [],
   "source": [
    "z_critical = stats.norm.ppf(alpha)"
   ]
  },
  {
   "cell_type": "markdown",
   "metadata": {},
   "source": [
    "#### Comparacion "
   ]
  },
  {
   "cell_type": "code",
   "execution_count": 8,
   "metadata": {},
   "outputs": [
    {
     "name": "stdout",
     "output_type": "stream",
     "text": [
      "Rechazar la hipótesis nula\n"
     ]
    }
   ],
   "source": [
    "if z < z_critical:\n",
    "    print(\"Rechazar la hipótesis nula\")\n",
    "else:\n",
    "    print(\"No rechazar la hipótesis nula\")"
   ]
  },
  {
   "cell_type": "markdown",
   "metadata": {},
   "source": [
    "#### Crear dataframe"
   ]
  },
  {
   "cell_type": "code",
   "execution_count": 14,
   "metadata": {},
   "outputs": [
    {
     "name": "stdout",
     "output_type": "stream",
     "text": [
      "            Parametros                     Valores\n",
      "0        Media teorica                          20\n",
      "1       Media muestral                        18.5\n",
      "2  Desviacion estandar                         2.5\n",
      "3    Tamaño de muestra                          30\n",
      "4          z-calculado                   -3.286335\n",
      "5            z-critico                   -1.644854\n",
      "6           conclusion  Rechazar la hipotesis nula\n"
     ]
    }
   ],
   "source": [
    "df = pd.DataFrame({\n",
    "    'Parametros': ['Media teorica','Media muestral','Desviacion estandar','Tamaño de muestra','z-calculado','z-critico',\n",
    "                   'conclusion'],\n",
    "    'Valores': [mu_0, x_bar,s,n,z,z_critical, 'Rechazar la hipotesis nula' if z < z_critical \n",
    "                else 'No rechazar la hipotesis nula']\n",
    "})\n",
    "print(df)"
   ]
  }
 ],
 "metadata": {
  "kernelspec": {
   "display_name": "base",
   "language": "python",
   "name": "python3"
  },
  "language_info": {
   "codemirror_mode": {
    "name": "ipython",
    "version": 3
   },
   "file_extension": ".py",
   "mimetype": "text/x-python",
   "name": "python",
   "nbconvert_exporter": "python",
   "pygments_lexer": "ipython3",
   "version": "3.12.7"
  }
 },
 "nbformat": 4,
 "nbformat_minor": 2
}
