{
 "cells": [
  {
   "cell_type": "markdown",
   "metadata": {},
   "source": [
    "#### Problema 3: Control de Peso en una Planta de Alimentos Un productor de harina en bolsa indica que el peso promedio de sus bolsas es de 1 kg (1000 gramos). Para verificarlo, se toman 40 bolsas y se obtiene un peso promedio de 990 gramos, con una desviación estándar de 12 gramos. Si se usa un nivel de significancia del 2%, ¿se puede concluir que las bolsas tienen un peso menor al anunciado?"
   ]
  },
  {
   "cell_type": "code",
   "execution_count": 4,
   "metadata": {},
   "outputs": [],
   "source": [
    "import numpy as np \n",
    "import pandas as pd\n",
    "import scipy.stats as stats \n",
    "\n",
    "#Datos \n",
    "mu_0 = 1000\n",
    "n = 40\n",
    "x_bar = 990\n",
    "s = 12\n",
    "alpha = 0.02"
   ]
  },
  {
   "cell_type": "markdown",
   "metadata": {},
   "source": [
    "#### Calculo del estadistico de z"
   ]
  },
  {
   "cell_type": "code",
   "execution_count": 5,
   "metadata": {},
   "outputs": [],
   "source": [
    "z = (x_bar - mu_0)/(s/np.sqrt(n))"
   ]
  },
  {
   "cell_type": "markdown",
   "metadata": {},
   "source": [
    "#### Valor critico de prueba "
   ]
  },
  {
   "cell_type": "code",
   "execution_count": 6,
   "metadata": {},
   "outputs": [],
   "source": [
    "z_critical = stats.norm.ppf(alpha)"
   ]
  },
  {
   "cell_type": "markdown",
   "metadata": {},
   "source": [
    "#### Comparacion "
   ]
  },
  {
   "cell_type": "code",
   "execution_count": 7,
   "metadata": {},
   "outputs": [
    {
     "name": "stdout",
     "output_type": "stream",
     "text": [
      "Rechazar la hipotesis nula\n"
     ]
    }
   ],
   "source": [
    "if z < z_critical:\n",
    "    print(\"Rechazar la hipotesis nula\")\n",
    "else:\n",
    "    print(\"No rechazar la hipotesis nula\")"
   ]
  },
  {
   "cell_type": "markdown",
   "metadata": {},
   "source": [
    "#### Crear un dataFrame"
   ]
  },
  {
   "cell_type": "code",
   "execution_count": 8,
   "metadata": {},
   "outputs": [
    {
     "name": "stdout",
     "output_type": "stream",
     "text": [
      "            Parametros                     Valores\n",
      "0        Media teorica                        1000\n",
      "1       Media muestral                         990\n",
      "2  Desviacion estandar                          12\n",
      "3    Tamaño de muestra                          40\n",
      "4          z-calculado                   -5.270463\n",
      "5            z-critico                   -2.053749\n",
      "6           conclusion  Rechazar la hipotesis nula\n"
     ]
    }
   ],
   "source": [
    "df = pd.DataFrame({\n",
    "    'Parametros': ['Media teorica','Media muestral','Desviacion estandar','Tamaño de muestra','z-calculado','z-critico',\n",
    "                   'conclusion'],\n",
    "    'Valores': [mu_0, x_bar,s,n,z,z_critical, 'Rechazar la hipotesis nula' if z < z_critical \n",
    "                else 'No rechazar la hipotesis nula']\n",
    "})\n",
    "print(df)"
   ]
  }
 ],
 "metadata": {
  "kernelspec": {
   "display_name": "base",
   "language": "python",
   "name": "python3"
  },
  "language_info": {
   "codemirror_mode": {
    "name": "ipython",
    "version": 3
   },
   "file_extension": ".py",
   "mimetype": "text/x-python",
   "name": "python",
   "nbconvert_exporter": "python",
   "pygments_lexer": "ipython3",
   "version": "3.12.7"
  }
 },
 "nbformat": 4,
 "nbformat_minor": 2
}
