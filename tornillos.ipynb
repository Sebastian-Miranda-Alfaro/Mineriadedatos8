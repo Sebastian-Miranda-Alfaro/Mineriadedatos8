{
 "cells": [
  {
   "cell_type": "markdown",
   "metadata": {},
   "source": [
    "### Problema 1: Control de Calidad en una Fábrica de Tornillos Una fábrica de tornillos afirma que el diámetro promedio de sus tornillos es de 10 mm. Se toma una muestra aleatoria de 49 tornillos, obteniéndose un diámetro promedio de 9.7 mm con una desviación estándar de 0.5 mm.  ¿Se puede concluir, con un nivel de significancia del 1%, que el diámetro medio es menor al teórico de 10 mm?  "
   ]
  },
  {
   "cell_type": "code",
   "execution_count": 5,
   "metadata": {},
   "outputs": [],
   "source": [
    "import numpy as np \n",
    "import pandas as pd \n",
    "import scipy.stats as stats\n",
    "\n",
    "#Datos del problema\n",
    "mu_0 = 10\n",
    "n=49\n",
    "x_bar = 9.7\n",
    "s = 0.5\n",
    "alpha = 0.01"
   ]
  },
  {
   "cell_type": "markdown",
   "metadata": {},
   "source": [
    "#### Calculo del estadistico de prueba z"
   ]
  },
  {
   "cell_type": "code",
   "execution_count": 6,
   "metadata": {},
   "outputs": [],
   "source": [
    "z=(x_bar - mu_0 )/(s/np.sqrt(n))"
   ]
  },
  {
   "cell_type": "markdown",
   "metadata": {},
   "source": [
    "#### Valor crítico de la prueba "
   ]
  },
  {
   "cell_type": "code",
   "execution_count": 7,
   "metadata": {},
   "outputs": [],
   "source": [
    "z_critical = stats.norm.ppf(alpha)\n"
   ]
  },
  {
   "cell_type": "code",
   "execution_count": 8,
   "metadata": {},
   "outputs": [
    {
     "name": "stdout",
     "output_type": "stream",
     "text": [
      "Rechazar la hipótesis nula\n"
     ]
    }
   ],
   "source": [
    "if z < z_critical:\n",
    "    print(\"Rechazar la hipótesis nula\")\n",
    "else:\n",
    "    print(\"No rechazar la hipótesis nula\")\n"
   ]
  },
  {
   "cell_type": "markdown",
   "metadata": {},
   "source": [
    "#### Crear dataframe"
   ]
  },
  {
   "cell_type": "code",
   "execution_count": 10,
   "metadata": {},
   "outputs": [
    {
     "name": "stdout",
     "output_type": "stream",
     "text": [
      "            Parametros                     Valores\n",
      "0        Media teorica                          10\n",
      "1       Media muestral                         9.7\n",
      "2  Desviacion estandar                         0.5\n",
      "3    Tamaño de muestra                          49\n",
      "4          z-calculado                        -4.2\n",
      "5            z-critico                   -2.326348\n",
      "6           conclusion  Rechazar la hipotesis nula\n"
     ]
    }
   ],
   "source": [
    "df = pd.DataFrame({\n",
    "    'Parametros': ['Media teorica','Media muestral','Desviacion estandar','Tamaño de muestra','z-calculado','z-critico',\n",
    "                   'conclusion'],\n",
    "    'Valores': [mu_0, x_bar,s,n,z,z_critical, 'Rechazar la hipotesis nula' if z < z_critical \n",
    "                else 'No rechazar la hipotesis nula']\n",
    "})\n",
    "print(df)"
   ]
  }
 ],
 "metadata": {
  "kernelspec": {
   "display_name": "base",
   "language": "python",
   "name": "python3"
  },
  "language_info": {
   "codemirror_mode": {
    "name": "ipython",
    "version": 3
   },
   "file_extension": ".py",
   "mimetype": "text/x-python",
   "name": "python",
   "nbconvert_exporter": "python",
   "pygments_lexer": "ipython3",
   "version": "3.12.7"
  }
 },
 "nbformat": 4,
 "nbformat_minor": 2
}
